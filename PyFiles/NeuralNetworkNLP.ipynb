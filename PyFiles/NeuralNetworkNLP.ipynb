{
 "cells": [
  {
   "cell_type": "code",
   "execution_count": 1,
   "metadata": {},
   "outputs": [],
   "source": [
    "import pandas as pd"
   ]
  },
  {
   "cell_type": "markdown",
   "metadata": {},
   "source": [
    "### Считываем данные"
   ]
  },
  {
   "cell_type": "code",
   "execution_count": null,
   "metadata": {},
   "outputs": [],
   "source": [
    "df = pd.read_excel('Datas/TestDataBase.xlsx')\n",
    "df.dropna()\n",
    "df.info()"
   ]
  },
  {
   "cell_type": "markdown",
   "metadata": {},
   "source": [
    "### Создание JSON-файла для дальнейшей работы"
   ]
  },
  {
   "cell_type": "code",
   "execution_count": null,
   "metadata": {},
   "outputs": [],
   "source": [
    "data = {}\n",
    "\n",
    "data['intents'] = []\n",
    "for i,j in zip(df['Заголовок статьи'], df['Портал самообслуживания']):\n",
    "    data['intents'].append({\n",
    "        'tag':i,\n",
    "        'patterns': [i],\n",
    "        'responses': [j],\n",
    "        'context':[\"\"]\n",
    "    })\n",
    "    \n",
    "with open('JSONforLemm.txt', 'w', encoding='UTF-8') as f:\n",
    "    json.dump(data, f,ensure_ascii=False)"
   ]
  },
  {
   "cell_type": "markdown",
   "metadata": {},
   "source": [
    "### Создание игнор-символов"
   ]
  },
  {
   "cell_type": "code",
   "execution_count": null,
   "metadata": {},
   "outputs": [],
   "source": [
    "words=[]\n",
    "classes = []\n",
    "documents = []\n",
    "ignore_words = ['?', '!',\"''\",'&','«','``','»',': &', 'quot', ')','(']\n",
    "\n",
    "with open('JSONforLemm.txt', encoding='UTF-8') as json_file:\n",
    "    intents = json.load(json_file)"
   ]
  }
 ],
 "metadata": {
  "kernelspec": {
   "display_name": "Python 3",
   "language": "python",
   "name": "python3"
  },
  "language_info": {
   "codemirror_mode": {
    "name": "ipython",
    "version": 3
   },
   "file_extension": ".py",
   "mimetype": "text/x-python",
   "name": "python",
   "nbconvert_exporter": "python",
   "pygments_lexer": "ipython3",
   "version": "3.6.6"
  }
 },
 "nbformat": 4,
 "nbformat_minor": 2
}
